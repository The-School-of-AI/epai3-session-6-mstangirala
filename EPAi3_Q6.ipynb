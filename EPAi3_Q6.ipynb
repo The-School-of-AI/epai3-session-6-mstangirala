{
  "nbformat": 4,
  "nbformat_minor": 0,
  "metadata": {
    "colab": {
      "name": "EPAi3_Q6.ipynb",
      "provenance": []
    },
    "kernelspec": {
      "name": "python3",
      "display_name": "Python 3"
    },
    "language_info": {
      "name": "python"
    }
  },
  "cells": [
    {
      "cell_type": "code",
      "metadata": {
        "colab": {
          "base_uri": "https://localhost:8080/"
        },
        "id": "6AhAJllE0sFh",
        "outputId": "25a2e947-48ce-4e31-dc24-df37d505d478"
      },
      "source": [
        "from datetime import datetime\n",
        "print(datetime.now())"
      ],
      "execution_count": 1,
      "outputs": [
        {
          "output_type": "stream",
          "text": [
            "2021-06-11 11:26:31.966314\n"
          ],
          "name": "stdout"
        }
      ]
    },
    {
      "cell_type": "code",
      "metadata": {
        "colab": {
          "base_uri": "https://localhost:8080/"
        },
        "id": "gYMPBMEauyPF",
        "outputId": "00804a93-3ccb-44ac-80ad-34d535c984b4"
      },
      "source": [
        "from datetime import datetime\n",
        "import random\n",
        "from datetime import timedelta\n",
        "\n",
        "min_year=1901\n",
        "max_year=2021\n",
        "\n",
        "start = datetime(min_year, 1, 1)\n",
        "years = max_year - min_year+1\n",
        "end = timedelta(days=365 * years)\n",
        "\n",
        "random_date = [(start + (end) * random.random()).strftime(\"%b, %dth, %Y\") for i in range(26)]\n",
        "print(str(random_date))\n",
        "#print(datetime.now())"
      ],
      "execution_count": 2,
      "outputs": [
        {
          "output_type": "stream",
          "text": [
            "['Aug, 25th, 1940', 'Jul, 07th, 2005', 'Nov, 04th, 1912', 'Jul, 06th, 1942', 'Dec, 31th, 2019', 'Nov, 03th, 1975', 'Nov, 30th, 1935', 'Aug, 22th, 1917', 'Jun, 16th, 1921', 'Sep, 27th, 1945', 'Nov, 14th, 1974', 'May, 06th, 2003', 'Jan, 26th, 1913', 'Nov, 07th, 1984', 'Apr, 02th, 1983', 'May, 27th, 2018', 'Jun, 25th, 1931', 'Sep, 25th, 1948', 'Apr, 04th, 1983', 'Dec, 23th, 2009', 'Feb, 05th, 1986', 'Feb, 08th, 1901', 'Sep, 01th, 1972', 'Sep, 18th, 2006', 'Mar, 21th, 1990', 'Mar, 03th, 1955']\n"
          ],
          "name": "stdout"
        }
      ]
    }
  ]
}